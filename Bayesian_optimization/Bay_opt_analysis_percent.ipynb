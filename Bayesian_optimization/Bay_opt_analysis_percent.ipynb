{
 "cells": [
  {
   "cell_type": "code",
   "execution_count": 72,
   "metadata": {
    "ExecuteTime": {
     "end_time": "2021-06-20T20:08:41.888657Z",
     "start_time": "2021-06-20T20:08:41.876663Z"
    }
   },
   "outputs": [],
   "source": [
    "### Libraries"
   ]
  },
  {
   "cell_type": "code",
   "execution_count": 112,
   "metadata": {
    "ExecuteTime": {
     "end_time": "2021-06-20T20:28:20.795596Z",
     "start_time": "2021-06-20T20:28:20.772594Z"
    }
   },
   "outputs": [
    {
     "data": {
      "text/html": [
       "        <script type=\"text/javascript\">\n",
       "        window.PlotlyConfig = {MathJaxConfig: 'local'};\n",
       "        if (window.MathJax) {MathJax.Hub.Config({SVG: {font: \"STIX-Web\"}});}\n",
       "        if (typeof require !== 'undefined') {\n",
       "        require.undef(\"plotly\");\n",
       "        requirejs.config({\n",
       "            paths: {\n",
       "                'plotly': ['https://cdn.plot.ly/plotly-latest.min']\n",
       "            }\n",
       "        });\n",
       "        require(['plotly'], function(Plotly) {\n",
       "            window._Plotly = Plotly;\n",
       "        });\n",
       "        }\n",
       "        </script>\n",
       "        "
      ]
     },
     "metadata": {},
     "output_type": "display_data"
    }
   ],
   "source": [
    "import numpy as np\n",
    "import pandas as pd\n",
    "from pathlib import Path\n",
    "import matplotlib.pyplot as plt \n",
    "import cufflinks as cf\n",
    "cf.go_offline()\n",
    "import plotly.express as px"
   ]
  },
  {
   "cell_type": "markdown",
   "metadata": {},
   "source": [
    "# Boston"
   ]
  },
  {
   "cell_type": "code",
   "execution_count": 123,
   "metadata": {
    "ExecuteTime": {
     "end_time": "2021-06-20T20:36:42.334474Z",
     "start_time": "2021-06-20T20:36:42.327504Z"
    }
   },
   "outputs": [],
   "source": [
    "### load data"
   ]
  },
  {
   "cell_type": "code",
   "execution_count": 125,
   "metadata": {
    "ExecuteTime": {
     "end_time": "2021-06-21T13:16:14.049087Z",
     "start_time": "2021-06-21T13:16:14.016916Z"
    }
   },
   "outputs": [],
   "source": [
    "jsn_path = Path().resolve() / \"Logs\" / \"Boston.json\"\n",
    "data = pd.read_json(jsn_path , lines = True).drop([\"datetime\"], axis = 1)"
   ]
  },
  {
   "cell_type": "code",
   "execution_count": 126,
   "metadata": {
    "ExecuteTime": {
     "end_time": "2021-06-21T13:16:14.798262Z",
     "start_time": "2021-06-21T13:16:14.778263Z"
    }
   },
   "outputs": [],
   "source": [
    "### convert data"
   ]
  },
  {
   "cell_type": "code",
   "execution_count": 127,
   "metadata": {
    "ExecuteTime": {
     "end_time": "2021-06-21T13:16:15.579797Z",
     "start_time": "2021-06-21T13:16:15.537630Z"
    }
   },
   "outputs": [],
   "source": [
    "params = pd.json_normalize(data['params'])"
   ]
  },
  {
   "cell_type": "code",
   "execution_count": 128,
   "metadata": {
    "ExecuteTime": {
     "end_time": "2021-06-21T13:16:16.137990Z",
     "start_time": "2021-06-21T13:16:16.124995Z"
    }
   },
   "outputs": [],
   "source": [
    "df = pd.concat([data[[\"target\"]]*-1, params], axis = 1)"
   ]
  },
  {
   "cell_type": "code",
   "execution_count": 129,
   "metadata": {
    "ExecuteTime": {
     "end_time": "2021-06-21T13:16:16.434404Z",
     "start_time": "2021-06-21T13:16:16.425435Z"
    }
   },
   "outputs": [],
   "source": [
    "## plot"
   ]
  },
  {
   "cell_type": "code",
   "execution_count": 134,
   "metadata": {
    "ExecuteTime": {
     "end_time": "2021-06-21T13:17:37.157082Z",
     "start_time": "2021-06-21T13:17:37.131439Z"
    }
   },
   "outputs": [],
   "source": [
    "df1 = df.query(\"target < 10\")\n",
    "df2 = df.query(\"target < 17\")"
   ]
  },
  {
   "cell_type": "code",
   "execution_count": null,
   "metadata": {
    "ExecuteTime": {
     "end_time": "2021-06-21T13:17:40.389331Z",
     "start_time": "2021-06-21T13:17:39.599120Z"
    }
   },
   "outputs": [],
   "source": [
    "px.scatter(df1, x=\"gamma\", y=\"C\", color=\"target\")"
   ]
  },
  {
   "cell_type": "code",
   "execution_count": null,
   "metadata": {
    "ExecuteTime": {
     "end_time": "2021-06-20T20:08:49.369952Z",
     "start_time": "2021-06-20T20:08:48.945961Z"
    }
   },
   "outputs": [],
   "source": [
    "plt.scatter(df1.C, df1.target);"
   ]
  },
  {
   "cell_type": "code",
   "execution_count": null,
   "metadata": {
    "ExecuteTime": {
     "end_time": "2021-06-20T20:08:50.207951Z",
     "start_time": "2021-06-20T20:08:49.867956Z"
    }
   },
   "outputs": [],
   "source": [
    "plt.scatter(df2.gamma, df2.target)"
   ]
  },
  {
   "cell_type": "code",
   "execution_count": null,
   "metadata": {},
   "outputs": [],
   "source": []
  }
 ],
 "metadata": {
  "kernelspec": {
   "display_name": "Python 3",
   "language": "python",
   "name": "python3"
  },
  "language_info": {
   "codemirror_mode": {
    "name": "ipython",
    "version": 3
   },
   "file_extension": ".py",
   "mimetype": "text/x-python",
   "name": "python",
   "nbconvert_exporter": "python",
   "pygments_lexer": "ipython3",
   "version": "3.7.7"
  },
  "toc": {
   "base_numbering": 1,
   "nav_menu": {},
   "number_sections": true,
   "sideBar": true,
   "skip_h1_title": false,
   "title_cell": "Table of Contents",
   "title_sidebar": "Contents",
   "toc_cell": false,
   "toc_position": {},
   "toc_section_display": true,
   "toc_window_display": false
  }
 },
 "nbformat": 4,
 "nbformat_minor": 4
}
